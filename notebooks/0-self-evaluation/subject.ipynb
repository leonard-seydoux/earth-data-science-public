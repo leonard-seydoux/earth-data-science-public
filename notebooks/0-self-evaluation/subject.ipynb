{
  "cells": [
    {
      "cell_type": "markdown",
      "metadata": {
        "id": "8KYU1qRgupg8"
      },
      "source": [
        "# Self-evaluation session\n",
        "\n",
        "![](images/xkcd-python.png) \n",
        "\n",
        "_Original image: https://xkcd.com/353/_\n",
        "\n",
        "> The original version of this notebook was made by Antoine Lucas and adapted in 2023 by Léonard Seydoux (seydoux@ipgp.fr) for the course _Earth Data Science_ at the [Institut de Physique du Globe de Paris](https://www.ipgp.fr/fr) (IPGP). It was proof-read by Geneviève Moguilny and Alexandre Fournier in 2024. If despite our efforts you find any mistake, please let us know!\n",
        "\n",
        "## Instructions\n",
        "\n",
        "This notebook contains a series of questions to which you should answer. Some example cells are given in the notebook to help you. You should not modify these cells. You can add as many cells as you want to answer the questions. You can also add markdown cells to explain your approach. \n",
        "\n",
        "## 1. Introduction\n",
        "\n",
        "The goal here is to allow you to evaluate your knowledge of Python and scientific libraries and to see the requirements for these practicals. The following suite of exercices are supposed to be fully understood and solved before the beginning of the practicals in order to fully benefit from the practicals. If you feel you do not master the following exercices, please take time to go through this notebook step-by-step and to reach out to the teaching team if you have any question.\n",
        "\n",
        "This session also provides you access to the ressources that can help you on a daily basis to solve your problems. The following ressources are the most important ones.\n",
        "\n",
        "__Technical documentations__ are always a good start to understand the API (application programming interface) of a library. It is also a good way to find examples of use of the library. For instance, the documentation of the `numpy` library is available <a href=\"https://numpy.org/doc/stable/\" target=\"_blank\">here</a>. The documentation of a specific function is also available from the command line with the `?` operator. For instance, if you want to know more about the numpy `array` function, you can type `help(np.array)` in a cell and run it (after `import numpy as np` of course). A documentation will be displayed. \n",
        "\n",
        "__Google__ is a good way to find answers to your questions. It is important to understand that the quality of the answers is not always good and that you should always check the answers you find on the internet. Also, chatbots such as ChatGPT, Gemini, Claude, etc. can help you.\n",
        "\n",
        "__StackOverflow__ is a website where you can find answers to most of your questions. It is a good way to find solutions to your problems. However, it is important to understand that the quality of the answers is not always good and that you should always check the answers you find on this website. You can find the website <a href=\"https://stackoverflow.com/\" target=\"_blank\">here</a>.\n",
        "\n",
        "__Cheatsheets__. A cheat sheet is a good way to find the most common functions of a library (most of libraries have a cheat sheet). At IPGP, researchers have made a cheat sheet for the most common scientific libraries in Python. You can find the website <a href=\"https://ipgp.github.io/scientific_python_cheat_sheet/\" target=\"_blank\">here</a>."
      ]
    },
    {
      "attachments": {},
      "cell_type": "markdown",
      "metadata": {
        "id": "jNTSWHAWHkb6"
      },
      "source": [
        "## 1. Lists and tuples\n",
        "\n",
        "We will use the term _object_ a lot in this course. In Python, everything is an object. An object is a data structure that contains data (named __attributes__) and functions (named __methods__) that can be applied to these data. \n",
        "\n",
        "For instance, a `list` object contains data (the list of elements) and functions that can be applied to this list (e.g. `append`, `sort`, `reverse`, etc.). The list of methods that can be applied to a `list` object is available [here](https://docs.python.org/3/tutorial/datastructures.html#more-on-lists).\n",
        "\n",
        "### 1.1. `list` objects\n",
        "\n",
        "A list is a collection of elements. The elements can be of any type (integer, float, string, etc.) and can be of different types in the same list. A list is defined by square brackets `[]` and the elements are separated by commas. For instance, the list `[1, 2, 3]` contains the integers 1, 2 and 3. It is ordered, which means that the order of the elements is important (the list `[1, 2, 3]` is different from the list `[2, 1, 3]`). The elements of a list can be accessed by their index. The index of the first element is 0, the index of the second element is 1, etc. The index of the last element is -1, the index of the second to last element is -2, etc.\n",
        "\n",
        "1. Create a list containing the integers from 4 to 6. Store this list in a variable called `integers` and display it.\n",
        "2. Create a list containing the first 3 letters of the alphabet. Store this list in a variable called `letters` and display it.\n",
        "3. Display the second element of `letters`. Replace this second element with the letter \"d\", without redefining the entire list, and display the list.\n",
        "4. Add up the lists `integers` and `letters` into a new list the name of which you will choose carefully. Display this new list. What do you observe?\n",
        "5. Multiply the list `letters` by 2 and display the result. What do you observe?\n",
        "6. Try to multiply the list `letters` by `letters`. What do you observe?"
      ]
    },
    {
      "cell_type": "code",
      "execution_count": null,
      "metadata": {},
      "outputs": [],
      "source": []
    },
    {
      "attachments": {},
      "cell_type": "markdown",
      "metadata": {
        "id": "JDNEqGcs0XnH"
      },
      "source": [
        "### 1.2. `list` methods\n",
        "\n",
        "A method is a function that is applied to an object. For instance, the method `append` applied to a list object adds an element to the end of the list. You can find the list of methods that can be applied to a `list` object <a href=\"https://docs.python.org/3/tutorial/datastructures.html#more-on-lists\" target=\"_blank\">here</a>.\n",
        "\n",
        "1. Create a list containing the elements \"CH4\", \"H2O\", \"NH3\", \"O3\", \"CO2\", \"CH3COOH\" and store it in the variable `molecules`.\n",
        "2. Find the index of the \"H2O\" molecule in this list.\n",
        "3. Now, find all indices of \"H2O\" in the following list : [\"CH4\", \"H2O\", \"NH3\", \"O3\", \"H2O\", \"CH3COOH\", \"H2O\"]"
      ]
    },
    {
      "cell_type": "code",
      "execution_count": null,
      "metadata": {
        "id": "wum8HCLYz6vp"
      },
      "outputs": [],
      "source": []
    },
    {
      "attachments": {},
      "cell_type": "markdown",
      "metadata": {
        "id": "1DhpahCH0KRR"
      },
      "source": [
        "### 1.3. `tuple` objects\n",
        "\n",
        "Tuple objects are similar to list objects, but they are immutable. This means that once a tuple is created, it cannot be modified. A tuple is defined by parentheses `()` and the elements are separated by commas. For instance, the tuple `(1, 2, 3)` contains the integers 1, 2 and 3. \n",
        "\n",
        "1. Create a tuple `alphabet` containing the first three letters of the alphabet. Print the second element of the tuple. Try to replace the second element with the letter \"d\", without redefining the entire tuple, and print the tuple. What do you observe?\n",
        "2. Try to add the list `letters` to the tuple `alphabet` and print the result. What do you observe?"
      ]
    },
    {
      "cell_type": "code",
      "execution_count": null,
      "metadata": {
        "id": "bgQpOoS56BSY"
      },
      "outputs": [],
      "source": []
    },
    {
      "attachments": {},
      "cell_type": "markdown",
      "metadata": {
        "id": "pWBRRF9BKA4P"
      },
      "source": [
        "## 2. Basics of `numpy`\n",
        "\n",
        "The `numpy` library is the most important library for scientific computing in Python. It provides a lot of functions to manipulate arrays and matrices. The documentation of the library is available [here](https://numpy.org/doc/stable/). Several libraries are built on top of `numpy` such as `scipy` (scientific computing), `matplotlib` (plotting, which is the base library of `seaborn`), `pandas` (data analysis), `scikit-learn` (machine learning), etc. The documentation of these libraries are available on their respective websites. We will see here the basics of `numpy` and how to manipulate arrays and matrices."
      ]
    },
    {
      "cell_type": "code",
      "execution_count": 1,
      "metadata": {},
      "outputs": [],
      "source": [
        "import numpy as np"
      ]
    },
    {
      "attachments": {},
      "cell_type": "markdown",
      "metadata": {
        "id": "qZXbxBJtMoED"
      },
      "source": [
        "### 2.1. Quick start\n",
        "\n",
        "1. Create an array `integers` of integers from 0 to 14 (included) with a step of 1.\n",
        "2. Create an array `reals` of values from 0 to 100 (included) with a step of 0.5.\n",
        "3. Create an array `angles` ranging from $-\\pi$ to $\\pi$ with 30 steps.\n",
        "4. Create an array `zeros` with 10 elements of 0 for all the values."
      ]
    },
    {
      "cell_type": "code",
      "execution_count": null,
      "metadata": {
        "id": "qjSgUmSFRFaU"
      },
      "outputs": [],
      "source": []
    },
    {
      "attachments": {},
      "cell_type": "markdown",
      "metadata": {
        "id": "jovJKkLUYfrU"
      },
      "source": [
        "### 2.2. Basic operations with `numpy` arrays\n",
        "\n",
        "1. Using the numpy functions, perform the following operations:\n",
        "    - $\\sqrt{10}$\n",
        "    - $\\tan(\\pi)$, $\\sin(\\pi)$, $\\cos(\\pi)$\n",
        "    - $\\log(10)$, $\\ln(10)$, $\\exp(1)$\n",
        "2. Generate a Gaussian random vector $\\bf x$ with 100 elements so that $\\mathbf{x} \\sim \\mathcal{N}(0, 1)$, that is, with a mean of 0 and a standard deviation of 1.\n",
        "3. Using numpy functions, estimate \n",
        "    - The average of $\\mathbf{x} = \\langle \\mathbf{x} \\rangle$\n",
        "    - The standard deviation of $\\mathbf{x} = \\sqrt{\\langle \\mathbf{x}^2 - \\langle \\mathbf{x} \\rangle^2 \\rangle}$\n",
        "    - $\\min(\\mathbf{x})$ and $\\max(\\mathbf{x})$\n",
        "4. Create two five-element vectors (i.e. array, `vector_1` and `vector_2`) with content of your choice.\n",
        "5. Calculate `vector_1 * vector_2`. Then calculate the dot product, and the outer product of `vector_1` and `vector_2`."
      ]
    },
    {
      "cell_type": "code",
      "execution_count": null,
      "metadata": {
        "id": "MR_jIEcFsF0S"
      },
      "outputs": [],
      "source": []
    },
    {
      "attachments": {},
      "cell_type": "markdown",
      "metadata": {
        "id": "SFPe063IkbJd"
      },
      "source": [
        "### 2.3 Stacking & reshaping\n",
        "\n",
        "1. Create an array `angles` ranging from $-\\pi$ to $\\pi$ with 30 steps.\n",
        "2. Reshape the array `angles` to a 10 $\\times$ 3 matrix called `angles_matrix`\n",
        "3. Create `angles_stacked_horizontally` which is a stack of $angles$ with itself reversed.\n",
        "4. Create `angles_stacked_vertically` which is a stack of $angles$ with itself reversed."
      ]
    },
    {
      "cell_type": "markdown",
      "metadata": {},
      "source": []
    },
    {
      "cell_type": "code",
      "execution_count": null,
      "metadata": {
        "id": "Yzl8uElgngai"
      },
      "outputs": [],
      "source": []
    },
    {
      "attachments": {},
      "cell_type": "markdown",
      "metadata": {
        "id": "HMglaWWLuWmS"
      },
      "source": [
        "### 2.4 Read a coma-separated values (CSV) file with `numpy`\n",
        "\n",
        "The most common data-sharing type for numerical data is the CSV file. CSV stands for Comma-Separated Values. It is a simple file format used to store tabular data, such as a spreadsheet or database. Files in the CSV format can be imported to and exported from programs that store data in tables, such as Microsoft Excel or OpenOffice Calc. The library `numpy` provides several methods to read CSV files. The most common ones are `genfromtxt` and `loadtxt`. Note that other libraries that derive from `numpy` such as `pandas` provide more efficient methods to read CSV files (seen later in this notebook).\n",
        "\n",
        "For the exercice, we will read the dataset `data/iris.csv` which is a famous multivariate dataset introduced by the British statistician and biologist Ronald Fisher in his 1936 paper *The use of multiple measurements in taxonomic problems*. The dataset contains 150 samples of iris flowers. Each sample contains the following features: sepal length, sepal width, petal length, petal width and the class of the flower. More information about the dataset is available [here](https://en.wikipedia.org/wiki/Iris_flower_data_set).\n",
        "\n",
        "1. Load the file `data/iris.csv` without including the last column (the variety of the flower) and store it in a variable called `iris_data`. Display the shape of the array.\n",
        "2. Explore each comlumns (type, min, max, mean, standard deviation, Nan values...)"
      ]
    },
    {
      "cell_type": "code",
      "execution_count": null,
      "metadata": {
        "id": "ydnRpQDp0EC_"
      },
      "outputs": [],
      "source": []
    },
    {
      "attachments": {},
      "cell_type": "markdown",
      "metadata": {
        "id": "5vyNhRRtFzIo"
      },
      "source": [
        "### 2.5 Matrices\n",
        "\n",
        "1. Create a 4 x 4 identity matrix\n",
        "1. Create a 10 x 10 all-of-ones matrix\n",
        "1. Create a 6 x 6 random matrix of float numbers between 0 and 1\n",
        "1. Create a 6 x 1 array of random integers between 0 and 6\n",
        "1. Find the transpose of matrix (4.)\n",
        "1. Multiply the matrix (4.) by the vector (5.)\n",
        "`"
      ]
    },
    {
      "cell_type": "markdown",
      "metadata": {},
      "source": []
    },
    {
      "cell_type": "code",
      "execution_count": null,
      "metadata": {
        "id": "ynCq9wMQGyLd"
      },
      "outputs": [],
      "source": []
    },
    {
      "attachments": {},
      "cell_type": "markdown",
      "metadata": {
        "id": "mgawXSyguDov"
      },
      "source": [
        "## 3. `matplotlib` in a nutshell\n",
        "\n",
        "In Python, many plotting libraries are available. The most common one is `matplotlib`. It is a library for creating static, animated, and interactive visualizations in Python. It can be used in Python scripts, the Python and IPython shell, web application servers, and various graphical user interface toolkits. The documentation of the library is available [here](https://matplotlib.org/). We will see here the basics of `matplotlib` and how to plot data.\n",
        "\n",
        "Note that the integration of `matplotlib` within Jupyter notebooks is done by the library `ipython`. The documentation of the library is available [here](https://ipython.readthedocs.io/en/stable/). By default, the matplotlib library displays as `inline` plots, which means, the plots are displayed in the notebook as static images. However, it is possible to display interactive plots in the notebook by using the magic command `%matplotlib widget`. The documentation of the magic command is available [here](https://ipython.readthedocs.io/en/stable/interactive/magics.html#magic-matplotlib). Using widgets implies to install the library `ipympl` which is a matplotlib backend to render figures in the notebook. \n",
        "\n",
        "In addition, we show an example of the library `seaborn` which is a Python data visualization library which uses `matplotlib` under the hood in section 4. It provides a high-level interface for drawing attractive and informative statistical graphics. The documentation of the library is available [here](https://seaborn.pydata.org/). Note that `seaborn` is well organized to deal with `pandas` dataframes."
      ]
    },
    {
      "cell_type": "code",
      "execution_count": 2,
      "metadata": {},
      "outputs": [],
      "source": [
        "import matplotlib.pyplot as plt"
      ]
    },
    {
      "attachments": {},
      "cell_type": "markdown",
      "metadata": {
        "id": "GIsNHvOEIMJE"
      },
      "source": [
        "### 3.1 Warmup\n",
        "\n",
        "1. Create a vector $\\theta \\in [0, 2\\pi]$ with 200 points\n",
        "2. Display the function $\\sin(\\theta)$ and $\\cos(\\theta)$ on the same axes.\n",
        "3. Add the title \"Famous trigonometric functions\" then add the axes labels and a legend.\n",
        "4. Add a grid.\n",
        "5. Change the color of the function so the sine function appears in red with a dotted linestyle and the cosine function is plotted in green with a dash-dot linestyle."
      ]
    },
    {
      "cell_type": "code",
      "execution_count": null,
      "metadata": {
        "id": "vDcokoO3H9ol"
      },
      "outputs": [],
      "source": []
    },
    {
      "attachments": {},
      "cell_type": "markdown",
      "metadata": {
        "id": "O2nzVE-HPAg4"
      },
      "source": [
        "### 3.2 Data and fit\n",
        "\n",
        "1. Create a vector $x \\in [0, 50]$ with 100 points.\n",
        "2. Create a vector $y = ax + b + n$, where $a$ and $b$ are two scalars of your choice and $n$ is a random vector of noise of the same size as $x$, with a variance and a mean of your choice.\n",
        "3. Make a scatter plot of $y=f(x)$.\n",
        "4. Plot the fit of the function in red (`np.polyfit` and `np.poly1d`)."
      ]
    },
    {
      "cell_type": "code",
      "execution_count": null,
      "metadata": {
        "id": "_10ba2vsJSBG"
      },
      "outputs": [],
      "source": []
    },
    {
      "cell_type": "markdown",
      "metadata": {},
      "source": [
        "## 4. `pandas` in a nutshell\n",
        "\n",
        "The library `pandas` is the most important library for data analysis in Python. It provides a lot of functions to manipulate data stored in objects called `DataFrame`. The documentation of the library is available [here](https://pandas.pydata.org/). We will see here the basics of `pandas` and how to manipulate data.\n",
        "\n",
        "### 4.1. Warmup\n",
        "\n",
        "1. Read the file `data/iris.csv` and store it in a variable called `iris_data` with the function `read_csv` of the library `pandas`.\n",
        "2. Display the first 5 rows of the dataset.\n",
        "3. Display the last 7 rows of the dataset.\n",
        "4. Display the shape of the dataset.\n",
        "5. Display basic statistics of the dataset with a single method."
      ]
    },
    {
      "cell_type": "code",
      "execution_count": null,
      "metadata": {},
      "outputs": [],
      "source": []
    },
    {
      "cell_type": "markdown",
      "metadata": {},
      "source": [
        "### 4.2. Data manipulation and display with `seaborn`\n",
        "\n",
        "1. Display the mean of the sepal length of the dataset (all varieties at once).\n",
        "1. Display the standard deviation of the sepal length of the dataset (all varieties at once).\n",
        "1. Plot the histogram of the sepal length for the variety \"Setosa\".\n",
        "1. Scatter plot the sepal length versus the sepal width, and color the points according to the variety of the flower."
      ]
    },
    {
      "cell_type": "code",
      "execution_count": null,
      "metadata": {},
      "outputs": [],
      "source": []
    }
  ],
  "metadata": {
    "colab": {
      "collapsed_sections": [
        "8KYU1qRgupg8",
        "GIsNHvOEIMJE"
      ],
      "name": "EDS_2020_2021_Python_Positionning_v1.1_no_sol.ipynb",
      "provenance": [],
      "toc_visible": true
    },
    "kernelspec": {
      "display_name": "eds",
      "language": "python",
      "name": "python3"
    },
    "language_info": {
      "codemirror_mode": {
        "name": "ipython",
        "version": 3
      },
      "file_extension": ".py",
      "mimetype": "text/x-python",
      "name": "python",
      "nbconvert_exporter": "python",
      "pygments_lexer": "ipython3",
      "version": "3.13.1"
    }
  },
  "nbformat": 4,
  "nbformat_minor": 0
}
